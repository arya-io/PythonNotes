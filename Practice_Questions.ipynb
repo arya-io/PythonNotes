{
  "nbformat": 4,
  "nbformat_minor": 0,
  "metadata": {
    "colab": {
      "provenance": []
    },
    "kernelspec": {
      "name": "python3",
      "display_name": "Python 3"
    },
    "language_info": {
      "name": "python"
    }
  },
  "cells": [
    {
      "cell_type": "markdown",
      "source": [
        "\n",
        "1. Write a program to swap 2 numbers"
      ],
      "metadata": {
        "id": "kd24RFKycnql"
      }
    },
    {
      "cell_type": "code",
      "execution_count": 1,
      "metadata": {
        "colab": {
          "base_uri": "https://localhost:8080/",
          "height": 0
        },
        "id": "_ky6tQYEcgDu",
        "outputId": "349a6178-c219-4726-9586-84884a5b50fc"
      },
      "outputs": [
        {
          "output_type": "stream",
          "name": "stdout",
          "text": [
            "Before Swapping:\n",
            "a: 20\n",
            "b: 10\n",
            "After Swapping:\n",
            "a: 10\n",
            "b: 20\n"
          ]
        }
      ],
      "source": [
        "a = 20\n",
        "b = 10\n",
        "\n",
        "print(\"Before Swapping:\")\n",
        "print(f\"a: {a}\")\n",
        "print(f\"b: {b}\")\n",
        "\n",
        "c = a\n",
        "a = b\n",
        "b = c\n",
        "\n",
        "print(\"After Swapping:\")\n",
        "print(f\"a: {a}\")\n",
        "print(f\"b: {b}\")\n",
        "\n",
        "# Alternate Method\n",
        "\n",
        "# a = a + b\n",
        "# b = a - b\n",
        "# a = a - b\n",
        "\n",
        "# print(\"After Swapping:\")\n",
        "# print(f\"a: {a}\")\n",
        "# print(f\"b: {b}\")\n",
        "\n",
        "# Alternate Method\n",
        "\n",
        "# a, b = b, a\n",
        "\n",
        "# print(\"After Swapping:\")\n",
        "# print(f\"a: {a}\")\n",
        "# print(f\"b: {b}\")"
      ]
    },
    {
      "cell_type": "markdown",
      "source": [
        "2. Write a program to calculate sum of digits of given three digit number"
      ],
      "metadata": {
        "id": "wtri6ymqtwAD"
      }
    },
    {
      "cell_type": "code",
      "source": [
        "def digitSum(num):\n",
        "    sum = 0\n",
        "\n",
        "    while(num):\n",
        "        sum += num % 10\n",
        "        num = num // 10\n",
        "    return sum\n",
        "\n",
        "print(digitSum(12345))"
      ],
      "metadata": {
        "colab": {
          "base_uri": "https://localhost:8080/",
          "height": 0
        },
        "id": "S4zLYNSXddrd",
        "outputId": "724efae6-f937-432e-b063-802713448991"
      },
      "execution_count": 2,
      "outputs": [
        {
          "output_type": "stream",
          "name": "stdout",
          "text": [
            "15\n"
          ]
        }
      ]
    },
    {
      "cell_type": "markdown",
      "source": [
        " 3. Find if given number is even or odd"
      ],
      "metadata": {
        "id": "_Kr1WukbuOYh"
      }
    },
    {
      "cell_type": "code",
      "source": [
        "def evenOdd(num):\n",
        "    if(num % 2 == 0):\n",
        "        return \"Even Number\"\n",
        "    else:\n",
        "        return \"Odd Number\"\n",
        "\n",
        "num = int(input(\"Enter a number: \"))\n",
        "print(evenOdd(num))"
      ],
      "metadata": {
        "colab": {
          "base_uri": "https://localhost:8080/",
          "height": 0
        },
        "id": "9XcI_10yuJQY",
        "outputId": "9ffb2085-5040-49d3-c41e-68f40053b2d8"
      },
      "execution_count": 3,
      "outputs": [
        {
          "output_type": "stream",
          "name": "stdout",
          "text": [
            "Enter a number: 56\n",
            "Even Number\n"
          ]
        }
      ]
    },
    {
      "cell_type": "markdown",
      "source": [
        "4. Print grade of student based on his marks (e.g. 76 is DISTINCTION 54 is SECOND CLASS 41 is\n",
        "PASS CLASS)"
      ],
      "metadata": {
        "id": "K1CQaQhEuhzW"
      }
    },
    {
      "cell_type": "code",
      "source": [
        "marks = int(input(\"Enter Marks: \"))\n",
        "\n",
        "if(marks >= 76):\n",
        "  print(\"DISTINCTION\")\n",
        "elif(marks >= 54):\n",
        "  print(\"SECOND CLASS\")\n",
        "elif(marks >= 41):\n",
        "  print(\"PASS CLASS\")\n",
        "else:\n",
        "  print(\"FAIL\")"
      ],
      "metadata": {
        "colab": {
          "base_uri": "https://localhost:8080/",
          "height": 0
        },
        "id": "mEFy1oW5uhaG",
        "outputId": "b657433a-cdc5-48f9-f1a3-cc5c75808100"
      },
      "execution_count": 4,
      "outputs": [
        {
          "output_type": "stream",
          "name": "stdout",
          "text": [
            "Enter Marks: 84\n",
            "DISTINCTION\n"
          ]
        }
      ]
    },
    {
      "cell_type": "markdown",
      "source": [
        "5. Calculate factorial of number"
      ],
      "metadata": {
        "id": "kjhkBjxIuYwW"
      }
    },
    {
      "cell_type": "code",
      "source": [
        "def factorial(num):\n",
        "    fact = 1\n",
        "    for i in range(num, 0, -1):\n",
        "        fact *= i\n",
        "    return fact\n",
        "\n",
        "num = int(input(\"Enter a number: \"))\n",
        "print(factorial(num))"
      ],
      "metadata": {
        "colab": {
          "base_uri": "https://localhost:8080/",
          "height": 0
        },
        "id": "LJHD1UK2t922",
        "outputId": "4252e649-8f73-4569-b778-80a4ad09c73e"
      },
      "execution_count": 5,
      "outputs": [
        {
          "output_type": "stream",
          "name": "stdout",
          "text": [
            "Enter a number: 5\n",
            "120\n"
          ]
        }
      ]
    },
    {
      "cell_type": "markdown",
      "source": [
        "6. Find if given number is prime or not"
      ],
      "metadata": {
        "id": "aB04wN61YpUs"
      }
    },
    {
      "cell_type": "code",
      "source": [
        "def primeNum(num):\n",
        "\n",
        "    for i in range(2, num):\n",
        "        if(num % i == 0):\n",
        "            return \"Not a Prime Number\"\n",
        "    return \"Prime Number\"\n",
        "\n",
        "num = int(input(\"Enter number: \"))\n",
        "\n",
        "print(primeNum(num))"
      ],
      "metadata": {
        "colab": {
          "base_uri": "https://localhost:8080/",
          "height": 0
        },
        "id": "JeQ_wXa4Ymma",
        "outputId": "6a603d8d-1935-49b7-ef66-ce41d6f94313"
      },
      "execution_count": 6,
      "outputs": [
        {
          "output_type": "stream",
          "name": "stdout",
          "text": [
            "Enter number: 100\n",
            "Not a Prime Number\n"
          ]
        }
      ]
    },
    {
      "cell_type": "markdown",
      "source": [
        "7. Write a program to reverse a list"
      ],
      "metadata": {
        "id": "z6CF60GtcdGs"
      }
    },
    {
      "cell_type": "code",
      "source": [
        "names = [\"Arya\", \"Rishi\", \"Yash\", \"Aman\", \"Namoh\"]\n",
        "print(names[::-1])"
      ],
      "metadata": {
        "colab": {
          "base_uri": "https://localhost:8080/",
          "height": 0
        },
        "id": "0bnqOgVAYwFh",
        "outputId": "9b3a33c5-2147-4805-b258-be1cf265daf4"
      },
      "execution_count": 7,
      "outputs": [
        {
          "output_type": "stream",
          "name": "stdout",
          "text": [
            "['Namoh', 'Aman', 'Yash', 'Rishi', 'Arya']\n"
          ]
        }
      ]
    },
    {
      "cell_type": "markdown",
      "source": [
        "8. Write a program to add all even elements in list from 1 to 100\n"
      ],
      "metadata": {
        "id": "22ZD6nx5dDXT"
      }
    },
    {
      "cell_type": "code",
      "source": [
        "numbers = [i for i in range(1, 101)]\n",
        "print(numbers)\n",
        "\n",
        "sum = 0\n",
        "\n",
        "for i in numbers:\n",
        "  if i%2 == 0:\n",
        "    sum += i\n",
        "\n",
        "print(f\"\\nSum of even elements in the list: {sum}\")"
      ],
      "metadata": {
        "colab": {
          "base_uri": "https://localhost:8080/",
          "height": 0
        },
        "id": "eySoE_mjdG8h",
        "outputId": "4c614e45-5e74-445c-dbd0-3a1fcc469df0"
      },
      "execution_count": 8,
      "outputs": [
        {
          "output_type": "stream",
          "name": "stdout",
          "text": [
            "[1, 2, 3, 4, 5, 6, 7, 8, 9, 10, 11, 12, 13, 14, 15, 16, 17, 18, 19, 20, 21, 22, 23, 24, 25, 26, 27, 28, 29, 30, 31, 32, 33, 34, 35, 36, 37, 38, 39, 40, 41, 42, 43, 44, 45, 46, 47, 48, 49, 50, 51, 52, 53, 54, 55, 56, 57, 58, 59, 60, 61, 62, 63, 64, 65, 66, 67, 68, 69, 70, 71, 72, 73, 74, 75, 76, 77, 78, 79, 80, 81, 82, 83, 84, 85, 86, 87, 88, 89, 90, 91, 92, 93, 94, 95, 96, 97, 98, 99, 100]\n",
            "\n",
            "Sum of even elements in the list: 2550\n"
          ]
        }
      ]
    },
    {
      "cell_type": "markdown",
      "source": [
        "9. Write a program to print all odd numbers from list"
      ],
      "metadata": {
        "id": "mhD8MgD9dqOC"
      }
    },
    {
      "cell_type": "code",
      "source": [
        "numbers = [i for i in range(1, 101)]\n",
        "print(numbers)\n",
        "\n",
        "sum = 0\n",
        "\n",
        "for i in numbers:\n",
        "  if i%2 != 0:\n",
        "    sum += i\n",
        "\n",
        "print(f\"\\nSum of odd elements in the list: {sum}\")"
      ],
      "metadata": {
        "colab": {
          "base_uri": "https://localhost:8080/",
          "height": 0
        },
        "id": "8XMe-azJdoT6",
        "outputId": "11eeb926-9067-4536-e739-8850989d889c"
      },
      "execution_count": 9,
      "outputs": [
        {
          "output_type": "stream",
          "name": "stdout",
          "text": [
            "[1, 2, 3, 4, 5, 6, 7, 8, 9, 10, 11, 12, 13, 14, 15, 16, 17, 18, 19, 20, 21, 22, 23, 24, 25, 26, 27, 28, 29, 30, 31, 32, 33, 34, 35, 36, 37, 38, 39, 40, 41, 42, 43, 44, 45, 46, 47, 48, 49, 50, 51, 52, 53, 54, 55, 56, 57, 58, 59, 60, 61, 62, 63, 64, 65, 66, 67, 68, 69, 70, 71, 72, 73, 74, 75, 76, 77, 78, 79, 80, 81, 82, 83, 84, 85, 86, 87, 88, 89, 90, 91, 92, 93, 94, 95, 96, 97, 98, 99, 100]\n",
            "\n",
            "Sum of odd elements in the list: 2500\n"
          ]
        }
      ]
    },
    {
      "cell_type": "markdown",
      "source": [
        "10. Write a program to create a list of prime numbers from 2 to 100"
      ],
      "metadata": {
        "id": "cGZU3UqAeJd5"
      }
    },
    {
      "cell_type": "code",
      "source": [
        "def primeNum(num):\n",
        "\n",
        "    for i in range(2, num):\n",
        "        if(num % i == 0):\n",
        "            return False\n",
        "    return True\n",
        "\n",
        "primeList = [i for i in range(2, 101) if primeNum(i)]\n",
        "\n",
        "print(primeList)"
      ],
      "metadata": {
        "colab": {
          "base_uri": "https://localhost:8080/",
          "height": 0
        },
        "id": "-prt7Iuhd14q",
        "outputId": "ef3deff7-d8b2-490d-edd0-73cddd3e34d3"
      },
      "execution_count": 10,
      "outputs": [
        {
          "output_type": "stream",
          "name": "stdout",
          "text": [
            "[2, 3, 5, 7, 11, 13, 17, 19, 23, 29, 31, 37, 41, 43, 47, 53, 59, 61, 67, 71, 73, 79, 83, 89, 97]\n"
          ]
        }
      ]
    },
    {
      "cell_type": "markdown",
      "source": [
        "11. Remove duplicate elements from list"
      ],
      "metadata": {
        "id": "Ah7bWV5heYr5"
      }
    },
    {
      "cell_type": "code",
      "source": [
        "ele = [20, 30, 20, 50, 70, 50, 46, 43, 43]\n",
        "ele2 = []\n",
        "\n",
        "for i in ele:\n",
        "  if i not in ele2:\n",
        "    ele2.append(i)\n",
        "\n",
        "print(f\"Original List: {ele}\")\n",
        "print(f\"List after removing duplicates: {ele2}\")"
      ],
      "metadata": {
        "colab": {
          "base_uri": "https://localhost:8080/",
          "height": 0
        },
        "id": "zNabb4ZJdrSx",
        "outputId": "ed192a8d-a72e-4485-ea02-d4c59e6892b3"
      },
      "execution_count": 11,
      "outputs": [
        {
          "output_type": "stream",
          "name": "stdout",
          "text": [
            "Original List: [20, 30, 20, 50, 70, 50, 46, 43, 43]\n",
            "List after removing duplicates: [20, 30, 50, 70, 46, 43]\n"
          ]
        }
      ]
    },
    {
      "cell_type": "markdown",
      "source": [
        "12. From given list of strings create another list of strings having 2 or more vowels"
      ],
      "metadata": {
        "id": "fpcl2GrOffKI"
      }
    },
    {
      "cell_type": "code",
      "source": [
        "names = [\"Arya\", \"Rishi\", \"Yash\", \"Aman\", \"Namoh\"]\n",
        "ans = []\n",
        "\n",
        "for i in names:\n",
        "  count = 0\n",
        "  for j in i.lower():\n",
        "    if j in \"aeiou\":\n",
        "      count += 1\n",
        "  if count >= 2:\n",
        "    ans.append(i)\n",
        "\n",
        "print(ans)"
      ],
      "metadata": {
        "colab": {
          "base_uri": "https://localhost:8080/",
          "height": 0
        },
        "id": "He5NCGxEfUOH",
        "outputId": "de4b02bd-3070-4718-f8a8-ac1775afa92a"
      },
      "execution_count": 12,
      "outputs": [
        {
          "output_type": "stream",
          "name": "stdout",
          "text": [
            "['Arya', 'Rishi', 'Aman', 'Namoh']\n"
          ]
        }
      ]
    },
    {
      "cell_type": "markdown",
      "source": [
        "13. Find out total count of prime numbers and odd numbers in given tuple"
      ],
      "metadata": {
        "id": "QXbw2zWDgooi"
      }
    },
    {
      "cell_type": "code",
      "source": [
        "def primeNum(num):\n",
        "\n",
        "    for i in range(2, num):\n",
        "        if(num % i == 0):\n",
        "            return False\n",
        "    return True\n",
        "\n",
        "def odd(num):\n",
        "\n",
        "  if ((num %2) != 0):\n",
        "    return True\n",
        "  return False\n",
        "\n",
        "count = 0\n",
        "\n",
        "numbers = [a for a in range(1, 101)]\n",
        "numbers = tuple(numbers)\n",
        "\n",
        "print(numbers)\n",
        "print(type(numbers))\n",
        "\n",
        "for i in numbers:\n",
        "  if(primeNum(i)):\n",
        "    count += 1\n",
        "\n",
        "print(f\"Prime Numbers Count in the list: {count}\")\n",
        "\n",
        "count = 0\n",
        "\n",
        "for i in numbers:\n",
        "  if(odd(i)):\n",
        "    count += 1\n",
        "\n",
        "print(f\"Odd Numbers Count in the list: {count}\")"
      ],
      "metadata": {
        "colab": {
          "base_uri": "https://localhost:8080/",
          "height": 0
        },
        "id": "tis_bEyBgr6O",
        "outputId": "415721f4-0fd3-4455-8bd8-d6986fdf6b99"
      },
      "execution_count": 13,
      "outputs": [
        {
          "output_type": "stream",
          "name": "stdout",
          "text": [
            "(1, 2, 3, 4, 5, 6, 7, 8, 9, 10, 11, 12, 13, 14, 15, 16, 17, 18, 19, 20, 21, 22, 23, 24, 25, 26, 27, 28, 29, 30, 31, 32, 33, 34, 35, 36, 37, 38, 39, 40, 41, 42, 43, 44, 45, 46, 47, 48, 49, 50, 51, 52, 53, 54, 55, 56, 57, 58, 59, 60, 61, 62, 63, 64, 65, 66, 67, 68, 69, 70, 71, 72, 73, 74, 75, 76, 77, 78, 79, 80, 81, 82, 83, 84, 85, 86, 87, 88, 89, 90, 91, 92, 93, 94, 95, 96, 97, 98, 99, 100)\n",
            "<class 'tuple'>\n",
            "Prime Numbers Count in the list: 26\n",
            "Odd Numbers Count in the list: 50\n"
          ]
        }
      ]
    },
    {
      "cell_type": "markdown",
      "source": [
        "14. Write a program to reverse given string."
      ],
      "metadata": {
        "id": "5mJzx3cMgy23"
      }
    },
    {
      "cell_type": "code",
      "source": [
        "string = input(\"Enter something: \")\n",
        "\n",
        "print(string[::-1])"
      ],
      "metadata": {
        "colab": {
          "base_uri": "https://localhost:8080/",
          "height": 0
        },
        "id": "82iFCVhZlEM3",
        "outputId": "8243d623-7dc6-4881-e32b-2d4dab01b236"
      },
      "execution_count": 14,
      "outputs": [
        {
          "output_type": "stream",
          "name": "stdout",
          "text": [
            "Enter something: Today is a very good day.\n",
            ".yad doog yrev a si yadoT\n"
          ]
        }
      ]
    },
    {
      "cell_type": "markdown",
      "source": [
        "15. Write a program to find if given string is pangram (it should have all characters from a to z)"
      ],
      "metadata": {
        "id": "ZplzC121mQeo"
      }
    },
    {
      "cell_type": "code",
      "source": [
        "text = \"The quick brown fox jumps over the lazy dog\"\n",
        "\n",
        "wordCount = set()\n",
        "\n",
        "for i in text.lower():\n",
        "  if i.isalpha():\n",
        "    wordCount.add(i)\n",
        "\n",
        "if(len(wordCount) == 26):\n",
        "  print(\"The given string is pangram.\")\n",
        "else:\n",
        "  print(\"The given string is not a pangram.\")"
      ],
      "metadata": {
        "colab": {
          "base_uri": "https://localhost:8080/",
          "height": 0
        },
        "id": "B2WK56pRlx0B",
        "outputId": "2e686f03-3b9b-406f-8853-0e734f54586f"
      },
      "execution_count": 15,
      "outputs": [
        {
          "output_type": "stream",
          "name": "stdout",
          "text": [
            "The given string is pangram.\n"
          ]
        }
      ]
    },
    {
      "cell_type": "markdown",
      "source": [
        "16. Write a program to find if given string is anagram (it should have same characters in any\n",
        "rotation)"
      ],
      "metadata": {
        "id": "aNsshREcniBn"
      }
    },
    {
      "cell_type": "code",
      "source": [
        "string1 = \"python\"\n",
        "string2 = \"typhon\"\n",
        "\n",
        "flag = 1\n",
        "\n",
        "if(len(string1) != len(string2)):\n",
        "  flag = 0\n",
        "else:\n",
        "  string1_dict = {}\n",
        "  string2_dict = {}\n",
        "\n",
        "  for i in string1:\n",
        "    string1_dict[i] = string1.count(i)\n",
        "  for i in string2:\n",
        "    string2_dict[i] = string2.count(i)\n",
        "\n",
        "  for i in string1_dict:\n",
        "    if (i in string1_dict) and (i in string2_dict):\n",
        "      if(string1_dict[i] != string2_dict[i]):\n",
        "        flag = 0\n",
        "        break\n",
        "    else:\n",
        "      flag = 0\n",
        "      break\n",
        "\n",
        "if(flag):\n",
        "  print(f\"{string1} and {string2} are Anagrams.\")\n",
        "else:\n",
        "  print(f\"{string1} and {string2} are not Anagrams.\")"
      ],
      "metadata": {
        "id": "SukgCuusm0Iq",
        "colab": {
          "base_uri": "https://localhost:8080/",
          "height": 0
        },
        "outputId": "242c5f8e-43f8-42b9-9c75-43c005970129"
      },
      "execution_count": 16,
      "outputs": [
        {
          "output_type": "stream",
          "name": "stdout",
          "text": [
            "python and typhon are Anagrams.\n"
          ]
        }
      ]
    },
    {
      "cell_type": "markdown",
      "source": [
        "17. Change the case of each vowel in given string (e.g. hEllo should be converted to hellO ,\n",
        "uppercase should be converted to lower and vice versa)"
      ],
      "metadata": {
        "id": "IzPnDHRetzk5"
      }
    },
    {
      "cell_type": "code",
      "source": [
        "string = \"hEllo\"\n",
        "ans = \"\"\n",
        "\n",
        "for i in string:\n",
        "  if i in \"aeiouAEIOU\":\n",
        "    if i.isupper():\n",
        "      ans += i.lower()\n",
        "    else:\n",
        "      ans += i.upper()\n",
        "  else:\n",
        "    ans += i\n",
        "\n",
        "print(string)\n",
        "print(ans)"
      ],
      "metadata": {
        "colab": {
          "base_uri": "https://localhost:8080/",
          "height": 0
        },
        "id": "sgwwPj3At6Lo",
        "outputId": "f9a15646-beca-44f4-db9d-f2212123b170"
      },
      "execution_count": 17,
      "outputs": [
        {
          "output_type": "stream",
          "name": "stdout",
          "text": [
            "hEllo\n",
            "hellO\n"
          ]
        }
      ]
    },
    {
      "cell_type": "markdown",
      "source": [
        "18. Reverse every word in given sentence. (\"hello world how are you\" should be converted to\n",
        "\"olleh dlrow woh era uoy\")"
      ],
      "metadata": {
        "id": "nUsuuQlDujtY"
      }
    },
    {
      "cell_type": "code",
      "source": [
        "text = \"hello world how are you\"\n",
        "ans = []\n",
        "for i in text.split():\n",
        "  ans.append(i[::-1])\n",
        "\n",
        "print(\" \".join(ans))"
      ],
      "metadata": {
        "colab": {
          "base_uri": "https://localhost:8080/",
          "height": 0
        },
        "id": "ac-p9fhwt5-Z",
        "outputId": "05f0536b-1b4c-4825-fb8a-b8cc89329b7a"
      },
      "execution_count": 18,
      "outputs": [
        {
          "output_type": "stream",
          "name": "stdout",
          "text": [
            "olleh dlrow woh era uoy\n"
          ]
        }
      ]
    },
    {
      "cell_type": "markdown",
      "source": [
        "19. In cryptography, a Caesar cipher is a very simple encryption techniques in which each\n",
        "letter in the plain text is replaced by a letter some fixed number of positions down the\n",
        "alphabet.\n",
        "\n",
        "For example, with a shift of 3, A would be replaced by D, B would become E, and\n",
        "so on.\n",
        "\n",
        "The method is named after Julius Caesar, who used it to communicate with his\n",
        "generals. ROT-13 (\"rotate by 13 places\") is a widely used example of a Caesar cipher\n",
        "where the shift is 13.\n",
        "\n",
        "In Python, the key for ROT-13 may be represented by means of the\n",
        "following dictionary:\n",
        "\n",
        "\n",
        "key = {'a':'n', 'b':'o', 'c':'p', 'd':'q', 'e':'r', 'f':'s', 'g':'t', 'h':'u', 'i':'v', 'j':'w', 'k':'x', 'l':'y',\n",
        "'m':'z', 'n':'a','o':'b',\n",
        "'p':'c', 'q':'d', 'r':'e', 's':'f', 't':'g', 'u':'h', 'v':'i', 'w':'j', 'x':'k', 'y':'l', 'z':'m', 'A':'N',\n",
        "'B':'O', 'C':'P', 'D':'Q','E':'R',\n",
        "'F':'S', 'G':'T', 'H':'U', 'I':'V', 'J':'W', 'K':'X', 'L':'Y', 'M':'Z', 'N':'A', 'O':'B', 'P':'C', 'Q':'D',\n",
        "'R':'E', 'S':'F', 'T':'G', 'U':'H', 'V':'I', 'W':'J', 'X':'K', 'Y':'L', 'Z':'M'}\n",
        "\n",
        "\n",
        "Your task in this exercise is to implement an encoder/decoder of ROT-13.\n",
        "\n",
        "Once you're\n",
        "done, you will be able to read the following secret message:\n",
        "\n",
        "Pnrfne pvcure? V zhpu cersre Pnrfne fnynq!\n",
        "\n",
        "Note that since English has 26 characters, your ROT-13 program will be able to both\n",
        "encode and decode texts written in English."
      ],
      "metadata": {
        "id": "QTLfh3yjwzZh"
      }
    },
    {
      "cell_type": "code",
      "source": [
        "key = {'a': 'n', 'b': 'o', 'c': 'p', 'd': 'q', 'e': 'r', 'f': 's', 'g': 't', 'h': 'u', 'i': 'v', 'j': 'w', 'k': 'x', 'l': 'y', 'm': 'z', 'n': 'a', 'o': 'b', 'p': 'c', 'q': 'd', 'r': 'e', 's': 'f', 't': 'g', 'u': 'h', 'v': 'i', 'w': 'j', 'x': 'k', 'y': 'l', 'z': 'm',\n",
        "       'A': 'N', 'B': 'O', 'C': 'P', 'D': 'Q', 'E': 'R', 'F': 'S', 'G': 'T', 'H': 'U', 'I': 'V', 'J': 'W', 'K': 'X', 'L': 'Y', 'M': 'Z', 'N': 'A', 'O': 'B', 'P': 'C', 'Q': 'D', 'R': 'E', 'S': 'F', 'T': 'G', 'U': 'H', 'V': 'I', 'W': 'J', 'X': 'K', 'Y': 'L', 'Z': 'M'}\n",
        "\n",
        "def encode(text):\n",
        "    encrypt = \"\"\n",
        "    for i in text:\n",
        "        if i not in key:\n",
        "            encrypt += i\n",
        "        else:\n",
        "            encrypt += key[i]\n",
        "\n",
        "    return encrypt\n",
        "\n",
        "def decode(text):\n",
        "    decrypt = \"\"\n",
        "    for i in text:\n",
        "        if i not in key:\n",
        "            decrypt += i\n",
        "        else:\n",
        "            decrypt += key[i]\n",
        "\n",
        "    return decrypt\n",
        "\n",
        "string = input(\"Enter something: \")\n",
        "\n",
        "print(f\"Encoded String: {encode(string)}\")\n",
        "print(f\"Decoded String: {decode(encode(string))}\")"
      ],
      "metadata": {
        "colab": {
          "base_uri": "https://localhost:8080/",
          "height": 0
        },
        "id": "ORWkY9YCvA_X",
        "outputId": "d5ed1548-6e1c-457c-b77e-c40d5131aff9"
      },
      "execution_count": 19,
      "outputs": [
        {
          "output_type": "stream",
          "name": "stdout",
          "text": [
            "Enter something: Caesar cipher? I much prefer Caesar salad!\n",
            "Encoded String: Pnrfne pvcure? V zhpu cersre Pnrfne fnynq!\n",
            "Decoded String: Caesar cipher? I much prefer Caesar salad!\n"
          ]
        }
      ]
    }
  ]
}